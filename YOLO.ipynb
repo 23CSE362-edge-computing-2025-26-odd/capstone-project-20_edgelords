{
 "cells": [
  {
   "cell_type": "code",
   "execution_count": 2,
   "id": "d570cffc-6433-43e2-8694-37e02a67f489",
   "metadata": {},
   "outputs": [],
   "source": [
    "import cv2\n",
    "import os\n",
    "from ultralytics import YOLO"
   ]
  },
  {
   "cell_type": "code",
   "execution_count": 3,
   "id": "1d325e44-3252-48f3-a808-b587515b76cb",
   "metadata": {},
   "outputs": [
    {
     "name": "stdout",
     "output_type": "stream",
     "text": [
      "\u001b[KDownloading https://github.com/ultralytics/assets/releases/download/v8.3.0/yolov8n.pt to 'yolov8n.pt': 100% ━━━━━━━━━━━━ 6.2MB 604.5KB/s 10.6s0.6s<0.0s.3s\n"
     ]
    }
   ],
   "source": [
    "yolo_model = YOLO(\"yolov8n.pt\")"
   ]
  },
  {
   "cell_type": "code",
   "execution_count": 5,
   "id": "10fc1dab-113e-4cf0-b448-da6c4d2817fa",
   "metadata": {},
   "outputs": [],
   "source": [
    "def detect_and_save_annotated(image_path):\n",
    "    # Load the image\n",
    "    frame = cv2.imread(image_path)\n",
    "    if frame is None:\n",
    "        raise ValueError(f\"Could not read image at {image_path}\")\n",
    "\n",
    "    # Run YOLO detection\n",
    "    results = yolo_model.predict(frame, imgsz=640, conf=0.5)\n",
    "\n",
    "    # Draw bounding boxes\n",
    "    annotated_frame = results[0].plot()  # NumPy array (BGR)\n",
    "\n",
    "    # Create output filename\n",
    "    base, ext = os.path.splitext(image_path)\n",
    "    annotated_path = f\"{base}_annotated{ext}\"\n",
    "\n",
    "    # Save annotated image\n",
    "    cv2.imwrite(annotated_path, annotated_frame)\n",
    "\n",
    "    print(f\"Annotated image saved at: {annotated_path}\")\n",
    "    return annotated_path"
   ]
  },
  {
   "cell_type": "code",
   "execution_count": 6,
   "id": "5cd7172e-04f5-4b53-b445-ed84c0cf1fce",
   "metadata": {},
   "outputs": [
    {
     "name": "stdout",
     "output_type": "stream",
     "text": [
      "\n",
      "0: 384x640 3 cars, 1 truck, 564.5ms\n",
      "Speed: 12.9ms preprocess, 564.5ms inference, 18.5ms postprocess per image at shape (1, 3, 384, 640)\n",
      "Annotated image saved at: validate_annotated.jpg\n"
     ]
    },
    {
     "data": {
      "text/plain": [
       "'validate_annotated.jpg'"
      ]
     },
     "execution_count": 6,
     "metadata": {},
     "output_type": "execute_result"
    }
   ],
   "source": [
    "detect_and_save_annotated('validate.jpg')"
   ]
  },
  {
   "cell_type": "code",
   "execution_count": null,
   "id": "18229221-b681-4f26-b767-8a1d3388d735",
   "metadata": {},
   "outputs": [],
   "source": []
  }
 ],
 "metadata": {
  "kernelspec": {
   "display_name": "Python 3 (ipykernel)",
   "language": "python",
   "name": "python3"
  },
  "language_info": {
   "codemirror_mode": {
    "name": "ipython",
    "version": 3
   },
   "file_extension": ".py",
   "mimetype": "text/x-python",
   "name": "python",
   "nbconvert_exporter": "python",
   "pygments_lexer": "ipython3",
   "version": "3.13.0"
  }
 },
 "nbformat": 4,
 "nbformat_minor": 5
}
